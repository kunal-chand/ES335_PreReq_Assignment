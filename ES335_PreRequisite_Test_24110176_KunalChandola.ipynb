{
 "cells": [
  {
   "cell_type": "markdown",
   "id": "47acffac-d54b-4e14-b670-e08b30787acb",
   "metadata": {},
   "source": [
    "# ES 335 - Prerequisite Test"
   ]
  },
  {
   "cell_type": "code",
   "execution_count": 3,
   "id": "085a0ba1-e36a-4218-a07a-b4df3756d5dc",
   "metadata": {},
   "outputs": [],
   "source": [
    "import numpy as np\n",
    "import time\n",
    "import random\n",
    "import jax.numpy as jnp\n",
    "from jax import grad\n",
    "import sympy\n",
    "import matplotlib.pyplot as plt\n",
    "import pandas as pd"
   ]
  },
  {
   "cell_type": "markdown",
   "id": "5019f43f-fc57-4bb7-bb4c-3651465b7a6d",
   "metadata": {},
   "source": [
    "## 1. How many multiplications and additions do you need to perform a matrix multiplication between a (n, k) and (k, m) matrix? Explain."
   ]
  },
  {
   "cell_type": "markdown",
   "id": "2f819602-5b1c-4b65-9d09-95e95ddff1b3",
   "metadata": {},
   "source": [
    "Before answering - when additions are mentioned, I am assuming that **adding n numbers together means n-1 addition operations.** \n",
    "For example - 3+2+4 has 2 addition operations\n",
    "\n",
    "Firstly, it is understood that the final matrix shall be of the order (n,m), and will have mn elements.\n",
    "Let the (n,k) matrix be called A and (k,m) matrix be called B.\n",
    "For the element in the ith row and jth columnm, we need to multiply each element of the ith row of A with the jth column of B.\n",
    "This will involve exactly k multiplications, as A has a row that has k elements which has corresponding columns in B that have the same amount, k, elements.\n",
    "\n",
    "Now, since there are m*n elements in the final matrix, the number of multiplications involved is thus - nmk.\n",
    "\n",
    "For the case of addition, since k values (products of the rows of A and columns of B) are being added per element of the final matrix, there will be k-1 additions.\n",
    "Thus, in all, there will be - nm(k-1) addition operations.\n",
    "\n",
    "So the final answer is:\n",
    "\n",
    "**Number of multiplications = nmk**\n",
    "\n",
    "**Number of additions = nm(k-1)**"
   ]
  },
  {
   "cell_type": "markdown",
   "id": "38642873-c328-40eb-9717-b736f13b15ec",
   "metadata": {},
   "source": [
    "## 2. Write Python code to multiply the above two matrices. Solve using list of lists and then use numpy. Compare the timing of both solutions. Which one is faster? Why?"
   ]
  },
  {
   "cell_type": "code",
   "execution_count": 7,
   "id": "0a814459-608d-420d-905b-00c33df48364",
   "metadata": {},
   "outputs": [
    {
     "name": "stdout",
     "output_type": "stream",
     "text": [
      "List in list result:\n",
      "[[-5, 23, -5], [-20, 53, -8], [-35, 83, -11]]\n",
      "Time Taken: 176.00000137463212 μs\n",
      "\n",
      "Numpy result:\n",
      "[[ -3  -8   6]\n",
      " [  8  15  30]\n",
      " [ 21 -32   0]]\n",
      "Time Taken: 807.2000055108219 μs\n"
     ]
    }
   ],
   "source": [
    "#Question 2\n",
    "\n",
    "#1. List of lists method\n",
    "A = [[1,2,3],\n",
    "     [4,5,6],\n",
    "     [7,8,9]]\n",
    "B = [[-3, -4, 2],\n",
    "     [2, 3,5],\n",
    "     [3,-4,0]]\n",
    "C = [[0,0,0],\n",
    "     [0,0,0],\n",
    "     [0,0,0]]\n",
    "#Here, m = n = k = 3\n",
    "m,n,k = 3,3,3\n",
    "\n",
    "start_time_1 = time.perf_counter()\n",
    "\n",
    "for i in range(0,n):\n",
    "    for j in range(0,m):\n",
    "        C[i][j] = sum([B[j][x]* A[i][x] for x in range(0,k)])\n",
    "\n",
    "end_time_1 = time.perf_counter()\n",
    "\n",
    "time_taken = (end_time_1-start_time_1)*1000000\n",
    "\n",
    "print(f\"List in list result:\\n{C}\")\n",
    "print(f\"Time Taken: {time_taken} μs\")\n",
    "\n",
    "#2. Numpy method\n",
    "A_np = np.array(A)\n",
    "B_np = np.array(B)\n",
    "\n",
    "start_time_2 = time.perf_counter()\n",
    "C_np = A_np*B_np\n",
    "end_time_2 = time.perf_counter()\n",
    "time_taken = (end_time_2-start_time_2)*1000000\n",
    "\n",
    "print(f\"\\nNumpy result:\\n{C_np}\")\n",
    "print(f\"Time Taken: {time_taken} μs\")"
   ]
  },
  {
   "cell_type": "markdown",
   "id": "a62e7a24-8072-404e-adb8-ee0a3790ed01",
   "metadata": {},
   "source": [
    "Clearly, numpy is much more efficient at matrix multiplication than simple list within list multiplication. This is becasue numpy arrays are stored as contnious segments in memory, whereas python lists are array pointers, which means they take up more space and time.\n",
    "\n",
    "Also, since numpy has all data in one array as the same type, it doesn't have to waste time in type checking, while python has to check all elements for their type, even if they are all the same element. So numpy becomes more efficient"
   ]
  },
  {
   "cell_type": "markdown",
   "id": "593d45a8-3a47-4384-9743-d60e9b523800",
   "metadata": {},
   "source": [
    "## 3. Finding the highest element in a list requires one pass of the array. Finding the second highest element requires 2 passes of the array. Using this method, what is the time complexity of finding the median of the array? Can you suggest a better method? Can you implement both these methods in Python and compare against numpy.median routine in terms of time?"
   ]
  },
  {
   "cell_type": "code",
   "execution_count": 10,
   "id": "acb38b9a-8c0d-4b4a-ac78-6fc2f6c3da20",
   "metadata": {},
   "outputs": [
    {
     "name": "stdout",
     "output_type": "stream",
     "text": [
      "\n",
      "Array size: 1000\n",
      "Naive method median: 5123.00 | Time: 0.0160s\n",
      "QuickSelect median: 5123.00 | Time: 0.0015s\n",
      "Numpy median: 5123.00 | Time: 0.002460s\n",
      "\n",
      "Array size: 5000\n",
      "Naive method median: 25132.00 | Time: 0.4199s\n",
      "QuickSelect median: 25132.00 | Time: 0.0084s\n",
      "Numpy median: 25132.00 | Time: 0.001010s\n",
      "\n",
      "Array size: 10000\n",
      "Naive method median: 50390.50 | Time: 1.6642s\n",
      "QuickSelect median: 50390.50 | Time: 0.0106s\n",
      "Numpy median: 50390.50 | Time: 0.001095s\n"
     ]
    }
   ],
   "source": [
    "#Question 3\n",
    "\n",
    "#First Approach (looping n/2 times)\n",
    "\n",
    "def first_method_median(arr):\n",
    "    a = arr.copy()\n",
    "    n = len(a)\n",
    "    k = n // 2\n",
    "\n",
    "    for _ in range(k - 1 if n % 2 == 0 else k):\n",
    "        a.remove(min(a))\n",
    "\n",
    "    if n % 2 == 1:\n",
    "        return min(a)\n",
    "    else:\n",
    "        min1 = min(a)\n",
    "        a.remove(min1)\n",
    "        min2 = min(a)\n",
    "        return 0.5 * (min1 + min2)\n",
    "        \n",
    "def binary_select(arr, k):\n",
    "    if len(arr) == 1:\n",
    "        return arr[0]\n",
    "        \n",
    "    pivot = random.choice(arr)\n",
    "    \n",
    "    lows = [l for l in arr if l < pivot]\n",
    "    highs = [h for h in arr if h > pivot]\n",
    "    pivots = [p for p in arr if p == pivot]\n",
    "\n",
    "    if k < len(lows):\n",
    "        return binary_select(lows, k)\n",
    "    elif k < len(lows) + len(pivots):\n",
    "        return pivot\n",
    "    else:\n",
    "        return binary_select(highs, k - len(lows) - len(pivots))\n",
    "\n",
    "def new_median_method(arr):\n",
    "    n = len(arr)\n",
    "    if n % 2 == 1:\n",
    "        return binary_select(arr, n // 2)\n",
    "    else:\n",
    "        left = binary_select(arr, n // 2 - 1)\n",
    "        right = binary_select(arr, n // 2)\n",
    "        return 0.5 * (left + right)\n",
    "\n",
    "sizes = [1000, 5000, 10000]\n",
    "\n",
    "for n in sizes:\n",
    "    print(f\"\\nArray size: {n}\")\n",
    "    arr = random.sample(range(10*n), n)\n",
    "\n",
    "    start = time.time()\n",
    "    first_median = first_method_median(arr)\n",
    "    print(f\"Naive method median: {first_median:.2f} | Time: {time.time() - start:.4f}s\")\n",
    "\n",
    "    start = time.time()\n",
    "    binary_median = new_median_method(arr)\n",
    "    print(f\"QuickSelect median: {binary_median:.2f} | Time: {time.time() - start:.4f}s\")\n",
    "\n",
    "    start = time.time()\n",
    "    median_np = np.median(arr)\n",
    "    print(f\"Numpy median: {median_np:.2f} | Time: {time.time() - start:.6f}s\")\n"
   ]
  },
  {
   "cell_type": "markdown",
   "id": "136ecf6f-6fda-483e-90ba-fe75b4166d8d",
   "metadata": {},
   "source": [
    "#### 1. Given Method:\n",
    "Time Complexity would be equal to number of elements in the array times the number of times traversed.\n",
    "Thus, the complexity would be O(nk), where k is the number of times traversed.\n",
    "In the case of median, k = n//2.\n",
    "Thus, complexity = O(n*n/2) = O(n**2)\n",
    "\n",
    "#### 2. Binary Selection:\n",
    "\n",
    "Explaination: First, we create a function that selects the kth biggest element in the list using a binary method. We split the list at a random pivot, and split the list at that pivot such that the elements less than the pivot are to the left and more than the pivot are to the right. Then, we compare and if the length of both is equal (or with multiple pivots), then we return the pivot, otherwise we conduct the process again with updated value of k and the side which had more number of elements. \n",
    "This way, the actual efficiency is made as n * log n\n",
    "Thus, new time complexity = O(nlogn)\n",
    "\n",
    "#### 3. Numpy Method:\n",
    "Numpy also follows this method for calculating the median, but since it doesn't need to typecheck each time the array is looped through, it is more efficient. "
   ]
  },
  {
   "cell_type": "markdown",
   "id": "dce694b2-78cc-4b68-9f4a-6edb3f5169a1",
   "metadata": {},
   "source": [
    "## 4. What is the gradient of the following function with respect to x and y?\n",
    "$$\n",
    "x^2 y + y^3 \\sin(x)\n",
    "$$"
   ]
  },
  {
   "cell_type": "markdown",
   "id": "74c4559f-1e7a-4aa5-af24-e622add8016b",
   "metadata": {},
   "source": [
    "$$\n",
    "\\begin{aligned}\n",
    "&\\text{We have the function:} \\\\\n",
    "&f(x, y) = x^2 y + y^3 \\sin(x) \\\\\n",
    "\\\\\n",
    "&\\text{So to get the gradient with respect to } x, \\text{ we differentiate as follows:} \\\\\n",
    "&\\frac{\\partial f}{\\partial x} = 2xy + y^3 \\cos(x) \\\\\n",
    "\\\\\n",
    "&\\text{To get the gradient with respect to } y, \\text{ we differentiate as follows:} \\\\\n",
    "&\\frac{\\partial f}{\\partial y} = x^2 + 3y^2 \\sin(x) \\\\\n",
    "\\\\\n",
    "&\\text{So the final gradients are:} \\\\\n",
    "&\\text{Gradient with respect to } x: \\quad 2xy + y^3 \\cos(x) \\\\\n",
    "&\\text{Gradient with respect to } y: \\quad x^2 + 3y^2 \\sin(x)\n",
    "\\end{aligned}\n",
    "$$\n"
   ]
  },
  {
   "cell_type": "markdown",
   "id": "dbc45904-0cbc-49ca-8d6e-9cbc153776af",
   "metadata": {},
   "source": [
    "## 5. Use JAX to confirm the gradient evaluated by your method matches the analytical solution corresponding to a few random values of x and y"
   ]
  },
  {
   "cell_type": "code",
   "execution_count": 15,
   "id": "50efc285-884a-4c12-9413-331f6f216e3c",
   "metadata": {},
   "outputs": [
    {
     "name": "stdout",
     "output_type": "stream",
     "text": [
      "Point 1: (0.375, 0.156):\n",
      "JAX x gradient: 0.12039 | Manual x gradient: 0.12039\n",
      "JAX y gradient: 0.16699 | Manual y gradient: 0.16699\n",
      "\n",
      "Point 2: (0.951, 0.058):\n",
      "JAX x gradient: 0.11056 | Manual x gradient: 0.11056\n",
      "JAX y gradient: 0.91209 | Manual y gradient: 0.91209\n",
      "\n",
      "Point 3: (0.732, 0.866):\n",
      "JAX x gradient: 1.75146 | Manual x gradient: 1.75146\n",
      "JAX y gradient: 2.04014 | Manual y gradient: 2.04014\n",
      "\n",
      "Point 4: (0.599, 0.601):\n",
      "JAX x gradient: 0.89916 | Manual x gradient: 0.89916\n",
      "JAX y gradient: 0.96927 | Manual y gradient: 0.96927\n",
      "\n",
      "Point 5: (0.156, 0.708):\n",
      "JAX x gradient: 0.57164 | Manual x gradient: 0.57164\n",
      "JAX y gradient: 0.25806 | Manual y gradient: 0.25806\n",
      "\n"
     ]
    }
   ],
   "source": [
    "#Question 5\n",
    "\n",
    "def f(x, y):\n",
    "    return x**2 * y + y**3 * jnp.sin(x)\n",
    "\n",
    "# Gradient from JAX function\n",
    "grad_x = grad(f, argnums=0)  \n",
    "grad_y = grad(f, argnums=1)  \n",
    "\n",
    "np.random.seed(42)\n",
    "x_vals = np.random.rand(5)\n",
    "y_vals = np.random.rand(5)\n",
    "\n",
    "for i in range(5):\n",
    "    x = x_vals[i]\n",
    "    y = y_vals[i]\n",
    "    \n",
    "    gx_jax = grad_x(x, y)\n",
    "    gy_jax = grad_y(x, y)\n",
    "    \n",
    "    gx_manual = 2 * x * y + y**3 * np.cos(x)\n",
    "    gy_manual = x**2 + 3 * y**2 * np.sin(x)\n",
    "\n",
    "    print(f\"Point {i+1}: ({x:.3f}, {y:.3f}):\")\n",
    "    print(f\"JAX x gradient: {gx_jax:.5f} | Manual x gradient: {gx_manual:.5f}\")\n",
    "    print(f\"JAX y gradient: {gy_jax:.5f} | Manual y gradient: {gy_manual:.5f}\")\n",
    "    print()\n"
   ]
  },
  {
   "cell_type": "markdown",
   "id": "7b3bcac7-2158-4f2c-a74c-a4248118d812",
   "metadata": {},
   "source": [
    "## 6. Use sympy to confirm that you obtain the same gradient analytically."
   ]
  },
  {
   "cell_type": "code",
   "execution_count": 17,
   "id": "8daf2b90-a6ed-4574-9492-1e1498c58985",
   "metadata": {},
   "outputs": [
    {
     "name": "stdout",
     "output_type": "stream",
     "text": [
      "According to sympy:\n",
      "With respect to x: 2*x*y + y**3*cos(x)\n",
      "With respect to y: x**2 + 3*y**2*sin(x)\n",
      "\n",
      "Caclulated derivatives:\n",
      "With respect to x: 2xy + (y^3)cos(x)\n",
      "With respect to y: x^2 + 3(y^2)sin(x)\n"
     ]
    }
   ],
   "source": [
    "#Question 6\n",
    "\n",
    "x, y = sympy.symbols('x y')\n",
    "\n",
    "f = x**2 * y + y**3 * sympy.sin(x)\n",
    "\n",
    "df_dx = sympy.diff(f, x)\n",
    "df_dy = sympy.diff(f, y)\n",
    "\n",
    "print(\"According to sympy:\")\n",
    "print(\"With respect to x:\", df_dx)\n",
    "print(\"With respect to y:\", df_dy)\n",
    "\n",
    "print(\"\\nCaclulated derivatives:\")\n",
    "print(\"With respect to x: 2xy + (y^3)cos(x)\")\n",
    "print(\"With respect to y: x^2 + 3(y^2)sin(x)\")"
   ]
  },
  {
   "cell_type": "markdown",
   "id": "25317e88-d9d9-4793-8e62-7580c2841f6a",
   "metadata": {},
   "source": [
    "## 7. Create a Python nested dictionary to represent hierarchical information. We want to store record of students and their marks."
   ]
  },
  {
   "cell_type": "code",
   "execution_count": 19,
   "id": "e8ffd7f2-fddb-4d5b-9703-a0fa18dfd27b",
   "metadata": {},
   "outputs": [],
   "source": [
    "#Question 7\n",
    "College = {\n",
    "    2022: {\n",
    "        'Computer Science and Engineering': {\n",
    "            22110001: {'Name': 'Aarav', 'Marks': {'Maths': 95, 'English': 87, 'Physics': 91}},\n",
    "            22110002: {'Name': 'Meera', 'Marks': {'Maths': 88, 'English': 80, 'Physics': 85}},\n",
    "        },\n",
    "        'Electrical Engineering': {\n",
    "            22110003: {'Name': 'Vihaan', 'Marks': {'Maths': 78, 'English': 76, 'Physics': 74}},\n",
    "        },\n",
    "        'Mechanical Engineering': {},\n",
    "        'Chemical Engineering': {\n",
    "            22110004: {'Name': 'Anaya', 'Marks': {'Maths': 82, 'English': 79, 'Physics': 81}},\n",
    "        },\n",
    "        'Civil Engineering': {\n",
    "            22110005: {'Name': 'Aditya', 'Marks': {'Maths': 91, 'English': 85, 'Physics': 90}},\n",
    "        },\n",
    "        'Materials Science and Engineering': {}\n",
    "    },\n",
    "\n",
    "    2023: {\n",
    "        'Computer Science and Engineering': {},\n",
    "        'Artificial Intelligence': {\n",
    "            23110001: {'Name': 'Myra', 'Marks': {'Maths': 88, 'English': 82, 'Physics': 86}},\n",
    "            23110002: {'Name': 'Krishna', 'Marks': {'Maths': 85, 'English': 89, 'Physics': 87}},\n",
    "        },\n",
    "        'Electrical Engineering': {\n",
    "            23110003: {'Name': 'Sai', 'Marks': {'Maths': 76, 'English': 70, 'Physics': 73}},\n",
    "        },\n",
    "        'Mechanical Engineering': {\n",
    "            23110004: {'Name': 'Vivaan', 'Marks': {'Maths': 93, 'English': 90, 'Physics': 94}},\n",
    "        },\n",
    "        'Chemical Engineering': {},\n",
    "        'Civil Engineering': {},\n",
    "        'Materials Science and Engineering': {\n",
    "            23110005: {'Name': 'Ira', 'Marks': {'Maths': 81, 'English': 77, 'Physics': 79}},\n",
    "        },\n",
    "    },\n",
    "\n",
    "    2024: {\n",
    "        'Computer Science and Engineering': {\n",
    "            24110001: {'Name': 'Siya', 'Marks': {'Maths': 87, 'English': 81, 'Physics': 85}},\n",
    "        },\n",
    "        'Artificial Intelligence': {\n",
    "            24110002: {'Name': 'Arjun', 'Marks': {'Maths': 90, 'English': 84, 'Physics': 88}},\n",
    "        },\n",
    "        'Electrical Engineering': {\n",
    "            24110003: {'Name': 'Avni', 'Marks': {'Maths': 86, 'English': 83, 'Physics': 87}},\n",
    "        },\n",
    "        'Integrated Circuit Design and Technology': {},\n",
    "        'Mechanical Engineering': {\n",
    "            24110004: {'Name': 'Sara', 'Marks': {'Maths': 79, 'English': 76, 'Physics': 80}},\n",
    "            24110005: {'Name': 'Reyansh', 'Marks': {'Maths': 84, 'English': 78, 'Physics': 82}},\n",
    "        },\n",
    "        'Chemical Engineering': {},\n",
    "        'Civil Engineering': {},\n",
    "        'Materials Science and Engineering': {},\n",
    "    },\n",
    "\n",
    "    2025: {\n",
    "        'Computer Science and Engineering': {\n",
    "            25110001: {'Name': 'Anika', 'Marks': {'Maths': 91, 'English': 88, 'Physics': 90}},\n",
    "        },\n",
    "        'Artificial Intelligence': {\n",
    "            25110002: {'Name': 'Ishaan', 'Marks': {'Maths': 92, 'English': 87, 'Physics': 89}},\n",
    "        },\n",
    "        'Electrical Engineering': {\n",
    "            25110003: {'Name': 'Ayaan', 'Marks': {'Maths': 83, 'English': 81, 'Physics': 85}},\n",
    "        },\n",
    "        'Integrated Circuit Design and Technology': {\n",
    "            25110004: {'Name': 'Diya', 'Marks': {'Maths': 77, 'English': 74, 'Physics': 78}},\n",
    "        },\n",
    "        'Mechanical Engineering': {},\n",
    "        'Chemical Engineering': {},\n",
    "        'Civil Engineering': {},\n",
    "        'Materials Science and Engineering': {\n",
    "            25110005: {'Name': 'Aadhya', 'Marks': {'Maths': 85, 'English': 80, 'Physics': 83}},\n",
    "        },\n",
    "    }\n",
    "}\n"
   ]
  },
  {
   "cell_type": "markdown",
   "id": "2f89e1e5-6f03-4bab-b7d6-8c0da4a27a6a",
   "metadata": {},
   "source": [
    "## 8. Store the same information using Python classes. We have an overall database which is a list of year objects. Each year contains a list of branches. Each branch contains a list of students. Each student has some properties like name, roll number and has marks in some subjects."
   ]
  },
  {
   "cell_type": "code",
   "execution_count": 21,
   "id": "3e455dc2-088d-4ccc-ba5f-f466b4234d08",
   "metadata": {},
   "outputs": [
    {
     "name": "stdout",
     "output_type": "stream",
     "text": [
      "Database(Years: 1)\n",
      "Student(Roll: 22110001, Name: Aarav, Marks: {'Maths': 95, 'English': 87, 'Physics': 91})\n"
     ]
    }
   ],
   "source": [
    "#Questiion 8\n",
    "\n",
    "class Student:\n",
    "    def __init__(self, roll_number, name, marks):\n",
    "        self.roll_number = roll_number\n",
    "        self.name = name\n",
    "        self.marks = marks\n",
    "\n",
    "    def __repr__(self):\n",
    "        return f\"Student(Roll: {self.roll_number}, Name: {self.name}, Marks: {self.marks})\"\n",
    "\n",
    "class Branch:\n",
    "    def __init__(self, name):\n",
    "        self.name = name\n",
    "        self.students = []\n",
    "\n",
    "    def add_student(self, student):\n",
    "        self.students.append(student)\n",
    "\n",
    "    def __repr__(self):\n",
    "        return f\"Branch({self.name}, Total Students: {len(self.students)})\"\n",
    "\n",
    "class Year:\n",
    "    def __init__(self, year):\n",
    "        self.year = year\n",
    "        self.branches = []\n",
    "\n",
    "    def add_branch(self, branch):\n",
    "        self.branches.append(branch)\n",
    "\n",
    "    def __repr__(self):\n",
    "        return f\"Year({self.year}, Branches: {self.branches})\"\n",
    "\n",
    "class College:\n",
    "    def __init__(self):\n",
    "        self.years = []\n",
    "\n",
    "    def add_year(self, year):\n",
    "        self.years.append(year)\n",
    "\n",
    "    def __repr__(self):\n",
    "        return f\"Database(Years: {len(self.years)})\"\n",
    "\n",
    "IITGN = College()\n",
    "\n",
    "year2022 = Year(2022)\n",
    "\n",
    "cse_2022 = Branch(\"Computer Science and Engineering\")\n",
    "\n",
    "cse_2022.add_student(Student(22110001, \"Aarav\", {\"Maths\": 95, \"English\": 87, \"Physics\": 91}))\n",
    "\n",
    "year2022.add_branch(cse_2022)\n",
    "\n",
    "IITGN.add_year(year2022)\n",
    "\n",
    "print(IITGN)\n",
    "print(IITGN.years[0].branches[0].students[0])\n",
    "\n",
    "#This is an example addition, more branches can be added using this method"
   ]
  },
  {
   "cell_type": "markdown",
   "id": "b066d137-2a6e-40d3-ad11-47cb6a4e9707",
   "metadata": {},
   "source": [
    "## 9. Using matplotlib plot the following functions on the domain: x = 0.5 to 100.0 in steps of 0.5.\n",
    "$$\n",
    "\\begin{aligned}\n",
    "1.\\quad & y = x \\\\\n",
    "2.\\quad & y = x^2 \\\\\n",
    "3.\\quad & y = \\frac{x^3}{100} \\\\\n",
    "4.\\quad & y = \\sin(x) \\\\\n",
    "5.\\quad & y = \\frac{\\sin(x)}{x} \\\\\n",
    "6.\\quad & y = \\log(x) \\\\\n",
    "7.\\quad & y = e^x \\\\\n",
    "\\end{aligned}\n",
    "$$"
   ]
  },
  {
   "cell_type": "code",
   "execution_count": 133,
   "id": "7e4e9c2a-293f-4445-89e9-66f8822f825d",
   "metadata": {},
   "outputs": [
    {
     "data": {
      "image/png": "[encoded data removed]",
      "text/plain": [
       "<Figure size 800x800 with 1 Axes>"
      ]
     },
     "metadata": {},
     "output_type": "display_data"
    }
   ],
   "source": [
    "#Question 9\n",
    "\n",
    "x = np.arange(0.5, 100.5, 0.5)\n",
    "y1 = x\n",
    "y2 = x**2\n",
    "y3 = (x**3)/100\n",
    "y4 = np.sin(x)\n",
    "y5 = (np.sin(x))/x\n",
    "y6 = np.log(x)\n",
    "y7 = np.exp(x)\n",
    "\n",
    "plt.figure(figsize=(8, 8))\n",
    "\n",
    "plt.plot(x, y1, label='y = x')\n",
    "plt.plot(x, y2, label='y = x²')\n",
    "plt.plot(x, y3, label='y = x³ / 100')\n",
    "plt.plot(x, y4, label='y = sin(x)')\n",
    "plt.plot(x, y5, label='y = sin(x)/x')\n",
    "plt.plot(x, y6, label='y = log(x)')\n",
    "plt.plot(x, y7, label='y = e^x')\n",
    "\n",
    "plt.title(\"Y as functions of x\")\n",
    "plt.xlabel(\"x\")\n",
    "plt.ylabel(\"y\")\n",
    "plt.legend(loc=\"upper left\")\n",
    "plt.grid(True)\n",
    "plt.ylim(-2, 100)\n",
    "\n",
    "plt.show()"
   ]
  },
  {
   "cell_type": "markdown",
   "id": "072b3d24-8782-4a93-b0ae-2e453b87566f",
   "metadata": {},
   "source": [
    "## 10. Using numpy generate a matrix of size 20X5 containing random numbers drawn uniformly from the range of 1 to 2. Using Pandas create a dataframe out of this matrix. Name the columns of the dataframe as “a”, “b”, “c”, “d”, “e”. Find the column with the highest standard deviation. Find the row with the lowest mean."
   ]
  },
  {
   "cell_type": "code",
   "execution_count": 48,
   "id": "bc609f2d-1c5a-4d2e-a703-99339ae66820",
   "metadata": {},
   "outputs": [
    {
     "name": "stdout",
     "output_type": "stream",
     "text": [
      "           a         b         c         d         e\n",
      "0   1.289751  1.161221  1.929698  1.808120  1.633404\n",
      "1   1.871461  1.803672  1.186570  1.892559  1.539342\n",
      "2   1.807440  1.896091  1.318003  1.110052  1.227935\n",
      "3   1.427108  1.818015  1.860731  1.006952  1.510747\n",
      "4   1.417411  1.222108  1.119865  1.337615  1.942910\n",
      "5   1.323203  1.518791  1.703019  1.363630  1.971782\n",
      "6   1.962447  1.251782  1.497249  1.300878  1.284840\n",
      "7   1.036887  1.609564  1.502679  1.051479  1.278646\n",
      "8   1.908266  1.239562  1.144895  1.489453  1.985650\n",
      "9   1.242055  1.672136  1.761620  1.237638  1.728216\n",
      "10  1.367783  1.632306  1.633530  1.535775  1.090290\n",
      "11  1.835302  1.320780  1.186519  1.040775  1.590893\n",
      "12  1.677564  1.016588  1.512093  1.226496  1.645173\n",
      "13  1.174366  1.690938  1.386735  1.936730  1.137521\n",
      "14  1.341066  1.113474  1.924694  1.877339  1.257942\n",
      "15  1.659984  1.817222  1.555201  1.529651  1.241852\n",
      "16  1.093103  1.897216  1.900418  1.633101  1.339030\n",
      "17  1.349210  1.725956  1.897110  1.887086  1.779876\n",
      "18  1.642032  1.084140  1.161629  1.898554  1.606429\n",
      "19  1.009197  1.101472  1.663502  1.005062  1.160808\n",
      "\n",
      "Column with most standard deviation: d : 0.33691526636842867\n",
      "Column with least mean: d : 1.4584472373722885\n"
     ]
    }
   ],
   "source": [
    "#Question 10\n",
    "\n",
    "rand_arr = np.random.uniform(1, 2, (20, 5))\n",
    "df = pd.DataFrame(rand_arr)\n",
    "df.columns = ['a', 'b', 'c', 'd', 'e']\n",
    "print(df)\n",
    "print()\n",
    "std_dev_arr = df.std()\n",
    "mean_arr = df.mean()\n",
    "max_std = std_dev_arr.idxmax()\n",
    "min_mean = mean_arr.idxmin()\n",
    "print(\"Column with most standard deviation:\", max_std, \":\",std_dev_arr[max_std])\n",
    "print(\"Column with least mean:\", min_mean, \":\",mean_arr[min_mean])"
   ]
  },
  {
   "cell_type": "markdown",
   "id": "a733a8ab-7f9d-474a-a270-06ded9e78a95",
   "metadata": {},
   "source": [
    "## 11. Add a new column to the dataframe called “f” which is the sum of the columns “a”, “b”, “c”, “d”, “e”. Create another column called “g”. The value in the column “g” should be “LT8” if the value in the column “f” is less than 8 and “GT8” otherwise. Find the number of rows in the dataframe where the value in the column “g” is “LT8”. Find the standard deviation of the column “f” for the rows where the value in the column “g” is “LT8” and “GT8” respectively."
   ]
  },
  {
   "cell_type": "code",
   "execution_count": 76,
   "id": "a1ad4020-74be-4011-a6ac-04d010cb9637",
   "metadata": {},
   "outputs": [
    {
     "name": "stdout",
     "output_type": "stream",
     "text": [
      "The number of columns with value of g = LT8 is: 18\n",
      "Standard Deviation of f for LT8: 0.5089089443622843\n",
      "Standard Deviation of f for GT8: 0.24439980380313883\n"
     ]
    }
   ],
   "source": [
    "#Question 11\n",
    "\n",
    "#Part 1 - Creating f\n",
    "df['f'] = df['a'] + df['b'] + df['c'] + df['d'] + df['e']\n",
    "\n",
    "#Part 2 - Creating g\n",
    "df['g'] = np.array([\"GT8\" if x > 8 else \"LT8\" for x in df['f']])\n",
    "\n",
    "#Part 3 - Number of columns with LT8\n",
    "mask = df['g'] == \"LT8\"\n",
    "ans = sum(mask)\n",
    "print(\"The number of columns with value of g = LT8 is:\", ans)\n",
    "\n",
    "#Part 4 - Standard Deviation in f for both LT8 and GT8\n",
    "mask_1 = mask\n",
    "mask_2 = df['g'] == 'GT8'\n",
    "lt8_arr = df[mask_1]['f']\n",
    "gt8_arr = df[mask_2]['f']\n",
    "lt8_std_dev = lt8_arr.std()\n",
    "gt8_std_dev = gt8_arr.std()\n",
    "print(\"Standard Deviation of f for LT8:\", lt8_std_dev)\n",
    "print(\"Standard Deviation of f for GT8:\", gt8_std_dev)"
   ]
  },
  {
   "cell_type": "markdown",
   "id": "05433395-d9b4-4677-9349-5cb6cc46bcc1",
   "metadata": {},
   "source": [
    "## 12. Write a small piece of code to explain broadcasting in numpy."
   ]
  },
  {
   "cell_type": "markdown",
   "id": "c9450032-55cd-471e-8a6c-b5ad79c0c69c",
   "metadata": {},
   "source": [
    "Broadcasting allows you to perform arithmetic operators between arrays with different shapes. What it does is it extends (or broadcasts) the shape of the smaller array onto the larger one, and then performs the element by element operation on that array.\n",
    "\n",
    "So for example:"
   ]
  },
  {
   "cell_type": "code",
   "execution_count": 83,
   "id": "2c08b037-23af-4d36-82a5-6df4a8bddcc9",
   "metadata": {},
   "outputs": [
    {
     "name": "stdout",
     "output_type": "stream",
     "text": [
      "[[ 2  4  6]\n",
      " [ 5  7  9]\n",
      " [ 8 10 12]]\n"
     ]
    }
   ],
   "source": [
    "A = np.array([[1,2,3],\n",
    "              [4,5,6],\n",
    "              [7,8,9]])\n",
    "B = np.array([1,2,3])\n",
    "print(A+B)"
   ]
  },
  {
   "cell_type": "markdown",
   "id": "41442fc2-3765-4756-b277-3164451cc18a",
   "metadata": {},
   "source": [
    "As we can see, numpy automatically projected the size of A (3x3) onto B (1x3) to make them both the same size.\n",
    "\n",
    "There are a few rules to broadcasting:\n",
    "\n",
    "If the 2 arrays dont have the same dimension, then the one with lesser dimmension is padded with single dimensions to it's left until it matches the dimension of the larger array.\n",
    "So for example, if you have 2 arrays with shapes: (2,4,3,4) and (3,4), then the second array is padded to (1,1,3,4).\n",
    "\n",
    "Secondly, once all the arrays have same dimensions, if all axes have the same values or either one of them is 1, then broadcasting is allowed.\n",
    "The final shape is thus the one with the maximum value between the 2 shapes per axis."
   ]
  },
  {
   "cell_type": "code",
   "execution_count": 89,
   "id": "6ea6c286-ea68-4acf-8b55-281633c0ef9a",
   "metadata": {},
   "outputs": [
    {
     "name": "stdout",
     "output_type": "stream",
     "text": [
      "Shape of A: (2, 4, 3, 4)\n",
      "Shape of B (original): (3, 4)\n",
      "Shape of result C (A + B): (2, 4, 3, 4)\n"
     ]
    }
   ],
   "source": [
    "A = np.random.randint(0, 10, (2, 4, 3, 4))\n",
    "B = np.random.randint(0, 10, (3, 4))\n",
    "\n",
    "C = A + B\n",
    "\n",
    "print(\"Shape of A:\", A.shape)\n",
    "print(\"Shape of B (original):\", B.shape)\n",
    "print(\"Shape of result C (A + B):\", C.shape)"
   ]
  },
  {
   "cell_type": "markdown",
   "id": "ba90eef6-d657-47f2-9497-b8933bb285c1",
   "metadata": {},
   "source": [
    "## 13. Write a function to compute the argmin of a numpy array. The function should take a numpy array as input and return the index of the minimum element. You can use the np.argmin function to verify your solution."
   ]
  },
  {
   "cell_type": "code",
   "execution_count": 131,
   "id": "063c76bb-1d17-48cf-9635-8e5712f3e75b",
   "metadata": {},
   "outputs": [
    {
     "name": "stdout",
     "output_type": "stream",
     "text": [
      "Original array:\n",
      " [[4 3 2]\n",
      " [2 3 8]]\n",
      "Index of minimum value (custom arg_min): 2\n",
      "Index of minimum value (NumPy argmin):   2\n"
     ]
    }
   ],
   "source": [
    "#Question 13\n",
    "\n",
    "def arg_min(arr):\n",
    "    arr = arr.flatten()  \n",
    "    min_val = arr[0]\n",
    "    min_index = 0\n",
    "    for i in range(1, len(arr)):\n",
    "        if arr[i] < min_val:\n",
    "            min_val = arr[i]\n",
    "            min_index = i\n",
    "    return min_index\n",
    "\n",
    "a = np.random.randint(0, 10, (2, 3))\n",
    "\n",
    "print(\"Original array:\\n\", a)\n",
    "print(\"Index of minimum value (custom arg_min):\", arg_min(a))\n",
    "print(\"Index of minimum value (NumPy argmin):  \", a.argmin())"
   ]
  }
 ],
 "metadata": {
  "kernelspec": {
   "display_name": "Python [conda env:base] *",
   "language": "python",
   "name": "conda-base-py"
  },
  "language_info": {
   "codemirror_mode": {
    "name": "ipython",
    "version": 3
   },
   "file_extension": ".py",
   "mimetype": "text/x-python",
   "name": "python",
   "nbconvert_exporter": "python",
   "pygments_lexer": "ipython3",
   "version": "3.12.7"
  }
 },
 "nbformat": 4,
 "nbformat_minor": 5
}
